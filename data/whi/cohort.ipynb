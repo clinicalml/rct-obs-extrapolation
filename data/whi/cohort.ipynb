{
 "cells": [
  {
   "cell_type": "code",
   "execution_count": null,
   "id": "4a6e5fd1-bfde-4811-86c9-c5663f64f1a8",
   "metadata": {},
   "outputs": [],
   "source": [
    "library(tidyverse)\n",
    "dat <- read.csv(\"/data/whi/data/main_study/csv/adh_ht_pub.csv\")\n",
    "dem <- read.csv(\"/data/whi/data/main_study/csv/dem_ctos_bio.csv\")\n",
    "out <- read.csv(\"/data/whi/data/main_study/csv/outc_adj_bio.csv\")"
   ]
  },
  {
   "cell_type": "code",
   "execution_count": null,
   "id": "9b48129c-9a3c-4335-b1e3-54c8d6092a81",
   "metadata": {},
   "outputs": [],
   "source": [
    "dat %>% group_by(ID) %>% filter(!is.na(ADHRATE)) %>% arrange(-ENDDY) %>% slice(1) %>% ungroup() %>% select(ID, ENDDY) -> dat_enddy"
   ]
  },
  {
   "cell_type": "code",
   "execution_count": null,
   "id": "86d41043-2684-48b2-8592-716b2dbf796c",
   "metadata": {},
   "outputs": [],
   "source": [
    "dem %>% group_by(ID) %>% \n",
    "    slice(1) %>% \n",
    "    filter(HRTARM %in% c('E+P intervention', 'E+P control')) %>% \n",
    "    ungroup() %>% \n",
    "    select(ID, HRTARM) %>%\n",
    "    mutate(HRTARM = ifelse(HRTARM == 'E+P intervention', 1, 0)) -> CT_ID"
   ]
  },
  {
   "cell_type": "code",
   "execution_count": null,
   "id": "985c60ca-33e9-4637-b446-b949005bfc4e",
   "metadata": {},
   "outputs": [],
   "source": [
    "out %>% inner_join(CT_ID, by = \"ID\") %>%\n",
    "    inner_join(dat_enddy, by = \"ID\") %>%\n",
    "    #mutate(ENDJAMADY = as.numeric(ENDWHIDY - (as.Date('2005-04-08')-as.Date('2002-04-30')))) %>%\n",
    "    mutate(ENDJAMADY = ENDDY+1) %>%\n",
    "    select(ID, HRTARM, ENDJAMADY, CABG, CABGDY, PTCA, PTCADY, PE, PEDY, DVT, DVTDY, \n",
    "           ENDMTRL, ENDMTRLDY, COLORECTAL, COLORECTALDY, BKHIP, BKHIPDY, DEATH, DEATHDY,\n",
    "           CHD, CHDDY, STROKE, STROKEDY, BREAST, BREASTDY) %>%\n",
    "    mutate(CABG_EVENT = ifelse(CABG == 1, ifelse(CABGDY <= ENDJAMADY, 1, 0), 0)) %>%\n",
    "    mutate(PTCA_EVENT = ifelse(PTCA == 1, ifelse(PTCADY <= ENDJAMADY, 1, 0), 0)) %>%\n",
    "    mutate(PE_EVENT = ifelse(PE == 1, ifelse(PEDY <= ENDJAMADY, 1, 0), 0)) %>%\n",
    "    mutate(DVT_EVENT = ifelse(DVT == 1, ifelse(DVTDY <= ENDJAMADY, 1, 0), 0)) %>%\n",
    "    mutate(COLORECTAL_EVENT = ifelse(COLORECTAL == 1, ifelse(COLORECTALDY <= ENDJAMADY, 1, 0), 0)) %>%\n",
    "    mutate(HIP_EVENT = ifelse(BKHIP == 1, ifelse(BKHIPDY <= ENDJAMADY, 1, 0), 0)) %>%\n",
    "    mutate(DEATH_EVENT = ifelse(DEATH == 1, ifelse(DEATHDY <= ENDJAMADY, 1, 0), 0)) %>%\n",
    "    mutate(ENDMTRL_EVENT = ifelse(ENDMTRL == 1, ifelse(ENDMTRLDY <= ENDJAMADY, 1, 0), 0)) %>%\n",
    "    mutate(CHD_EVENT = ifelse(CHD == 1, ifelse(CHDDY <= ENDJAMADY, 1, 0), 0)) %>%\n",
    "    mutate(STROKE_EVENT = ifelse(STROKE == 1, ifelse(STROKEDY <= ENDJAMADY, 1, 0), 0)) %>%\n",
    "    mutate(BREAST_EVENT = ifelse(BREAST == 1, ifelse(BREASTDY <= ENDJAMADY, 1, 0), 0)) %>%\n",
    "    mutate(CABGDY = ifelse(CABG_EVENT == 1, CABGDY, ENDJAMADY)) %>%\n",
    "    mutate(PTCADY = ifelse(PTCA_EVENT == 1, PTCADY, ENDJAMADY)) %>%\n",
    "    mutate(PEDY = ifelse(PE_EVENT == 1, PEDY, ENDJAMADY)) %>%\n",
    "    mutate(DVTDY = ifelse(DVT_EVENT == 1, DVTDY, ENDJAMADY)) %>%\n",
    "    mutate(ENDMTRLDY = ifelse(ENDMTRL_EVENT == 1, ENDMTRLDY, ENDJAMADY)) %>%\n",
    "    mutate(COLORECTALDY = ifelse(COLORECTAL_EVENT == 1, COLORECTALDY, ENDJAMADY)) %>%\n",
    "    mutate(HIPDY = ifelse(HIP_EVENT == 1, BKHIPDY, ENDJAMADY)) %>%\n",
    "    mutate(DEATHDY = ifelse(DEATH_EVENT == 1, DEATHDY, ENDJAMADY)) %>%\n",
    "    mutate(CHDDY = ifelse(CHD_EVENT == 1, CHDDY, ENDJAMADY)) %>%\n",
    "    mutate(STROKEDY = ifelse(STROKE_EVENT == 1, STROKEDY, ENDJAMADY)) %>%\n",
    "    mutate(CP_EVENT = (CABG_EVENT+PTCA_EVENT > 0)*1) %>% \n",
    "    mutate(BREASTDY = ifelse(BREAST_EVENT == 1, BREASTDY, ENDJAMADY)) %>%\n",
    "    mutate(CPDY = ifelse(CABG_EVENT == PTCA_EVENT, pmin(CABGDY, PTCADY), CABGDY*CABG_EVENT + PTCADY*PTCA_EVENT)) %>%\n",
    "    mutate(GLBL_EVENT = (DEATH_EVENT + COLORECTAL_EVENT + HIP_EVENT + ENDMTRL_EVENT + CHD_EVENT + STROKE_EVENT + PE_EVENT + BREAST_EVENT > 0)*1) %>%\n",
    "    mutate(GLBLDY = ifelse(GLBL_EVENT == 1, \n",
    "                           pmin(ifelse(DEATH_EVENT, DEATHDY, NA),\n",
    "                                ifelse(COLORECTAL_EVENT, COLORECTALDY, NA),\n",
    "                                ifelse(HIP_EVENT, HIPDY, NA),\n",
    "                                ifelse(ENDMTRL_EVENT, ENDMTRLDY, NA),\n",
    "                                ifelse(CHD_EVENT, CHDDY, NA),\n",
    "                                ifelse(STROKE_EVENT, STROKEDY, NA),\n",
    "                                ifelse(PE_EVENT, PEDY, NA),\n",
    "                                ifelse(BREAST_EVENT, BREASTDY, NA), na.rm = T), \n",
    "                           pmin(DEATHDY,\n",
    "                                COLORECTALDY,\n",
    "                                HIPDY,\n",
    "                                ENDMTRLDY,\n",
    "                                CHDDY,\n",
    "                                STROKEDY,\n",
    "                                PEDY,\n",
    "                                BREASTDY)))-> out_dz"
   ]
  },
  {
   "cell_type": "code",
   "execution_count": null,
   "id": "036cc34d-b56e-45a3-adac-090141838cf5",
   "metadata": {},
   "outputs": [],
   "source": [
    "colSums(out_dz[,c('DEATH_EVENT','COLORECTAL_EVENT','HIP_EVENT','CP_EVENT','ENDMTRL_EVENT','PE_EVENT','DVT_EVENT', 'CHD_EVENT', 'BREAST_EVENT', 'STROKE_EVENT', 'GLBL_EVENT')])\n",
    "table(out_dz$PE_EVENT,out_dz$HRTARM)"
   ]
  },
  {
   "cell_type": "code",
   "execution_count": null,
   "id": "074b50a3-83d1-4020-9121-a20c9c224413",
   "metadata": {},
   "outputs": [],
   "source": [
    "out_dz %>% summarize(CABG = mean((CABG_EVENT == 0)*(CABGDY < 365*2), na.rm=T),\n",
    "                     PTCA = mean((PTCA_EVENT == 0)*(PTCADY < 365*2), na.rm=T),\n",
    "                     CP = mean((CP_EVENT == 0)*(CPDY < 365*2), na.rm=T),\n",
    "                     HIP = mean((HIP_EVENT == 0)*(HIPDY < 365*2), na.rm=T),\n",
    "                     ENDMTRL = mean((ENDMTRL_EVENT == 0)*(ENDMTRLDY < 365*2), na.rm=T),\n",
    "                     PE = mean((PE_EVENT == 0)*(PEDY < 365*2), na.rm=T),\n",
    "                     DVT = mean((DVT_EVENT == 0)*(DVTDY < 365*2), na.rm=T),\n",
    "                     BREAST = mean((BREAST_EVENT == 0)*(BREASTDY < 365*2), na.rm=T),\n",
    "                     CHD = mean((CHD_EVENT == 0)*(CHDDY < 365*2), na.rm=T),\n",
    "                     STROKE = mean((STROKE_EVENT == 0)*(STROKEDY < 365*2), na.rm=T),\n",
    "                     GLBL = mean((GLBL_EVENT == 0)*(GLBLDY < 365*2), na.rm=T),\n",
    "                     CABG_E = mean((CABG_EVENT ==1)*(CABGDY < 365*2), na.rm=T),\n",
    "                     PTCA_E = mean((PTCA_EVENT ==1)*(PTCADY < 365*2), na.rm=T),\n",
    "                     CP_E = mean((CP_EVENT ==1)*(CPDY < 365*2), na.rm=T),\n",
    "                     HIP_E = mean((HIP_EVENT ==1)*(HIPDY < 365*2), na.rm=T),\n",
    "                     ENDMTRL_E = mean((ENDMTRL_EVENT ==1)*(ENDMTRLDY < 365*2), na.rm=T),\n",
    "                     PE_E = mean((PE_EVENT ==1)*(PEDY < 365*2), na.rm=T),\n",
    "                     DVT_E = mean((DVT_EVENT ==1)*(DVTDY < 365*2), na.rm=T),\n",
    "                     BREAST_E = mean((BREAST_EVENT ==1)*(BREASTDY < 365*2), na.rm=T),\n",
    "                     CHD_E = mean((CHD_EVENT ==1)*(CHDDY < 365*2), na.rm=T),\n",
    "                     STROKE_E = mean((STROKE_EVENT ==1)*(STROKEDY < 365*2), na.rm=T),\n",
    "                     GLBL_E = mean((GLBL_EVENT ==1)*(GLBLDY < 365*2), na.rm=T)) -> temp\n",
    "\n",
    "t(temp)"
   ]
  },
  {
   "cell_type": "code",
   "execution_count": null,
   "id": "1ca855b9-b436-4cf9-bd1b-c659e56f1e79",
   "metadata": {},
   "outputs": [],
   "source": [
    "library(survival)\n",
    "mod <- coxph(Surv(PEDY, PE_EVENT) ~ HRTARM, data = out_dz)\n",
    "summary(mod)"
   ]
  },
  {
   "cell_type": "code",
   "execution_count": null,
   "id": "fdd641ed-be6e-4d5e-b3d3-a50af2c47c43",
   "metadata": {},
   "outputs": [],
   "source": [
    "unique((dem %>% filter(OSFLAG == 'Yes'))$ID) -> OS_ID_pre1"
   ]
  },
  {
   "cell_type": "code",
   "execution_count": null,
   "id": "5207b2df-585e-4494-a356-72d9144db252",
   "metadata": {},
   "outputs": [],
   "source": [
    "f2 <- read.csv(\"/data/whi/data/main_study/csv/f2_ctos_bio.csv\")"
   ]
  },
  {
   "cell_type": "code",
   "execution_count": null,
   "id": "753b9e33-ab17-4251-812b-8094817bc5ea",
   "metadata": {},
   "outputs": [],
   "source": [
    "unique((f2 %>% filter(HYST == 'No', ID %in% OS_ID_pre1))$ID) -> OS_ID_pre2"
   ]
  },
  {
   "cell_type": "code",
   "execution_count": null,
   "id": "a5743cca-f66d-4f77-808a-c963577f2863",
   "metadata": {},
   "outputs": [],
   "source": [
    "f43 <- read.csv(\"/data/whi/data/main_study/csv/f43_ctos_bio.csv\")"
   ]
  },
  {
   "cell_type": "code",
   "execution_count": null,
   "id": "75dfb0b7-bef4-44a5-8ed5-aa93f92ee0c1",
   "metadata": {},
   "outputs": [],
   "source": [
    "(f43 %>% filter((TOTPSTAT == 'Never used') | (TOTPSTAT == 'Past user')) %>% filter(ID %in% OS_ID_pre2))$ID -> pre_cohort_ID"
   ]
  },
  {
   "cell_type": "code",
   "execution_count": null,
   "id": "6414b5b3-610b-49d6-a1e8-4bdf35127a2f",
   "metadata": {},
   "outputs": [],
   "source": [
    "f48 <- read.csv(\"/data/whi/data/main_study/csv/f48_av1_os_pub.csv\")"
   ]
  },
  {
   "cell_type": "code",
   "execution_count": null,
   "id": "5af3444a-6d0c-4390-b190-9f9aa11fdde0",
   "metadata": {},
   "outputs": [],
   "source": [
    "(f48 %>% filter(ID %in% pre_cohort_ID) \n",
    "    %>% filter(((ELSTYR == 'Yes') & (PLSTYR == 'Yes')) | (HRTCMBP == 'Yes')))$ID -> OS_treat_ID\n",
    "(f48 %>% filter(ID %in% pre_cohort_ID) \n",
    "     %>% filter((ELSTYR == 'No') & (PLSTYR == 'No')))$ID -> OS_control_none_ID \n",
    "(f48 %>% filter(ID %in% pre_cohort_ID) \n",
    "     %>% filter(((ELSTYR == 'Yes') & (PLSTYR == 'No')) |  ((ELSTYR == 'No') & (PLSTYR == 'Yes'))))$ID -> OS_control_one_ID \n"
   ]
  },
  {
   "cell_type": "code",
   "execution_count": null,
   "id": "69792547-6f50-4ce1-aea4-0921454169c6",
   "metadata": {},
   "outputs": [],
   "source": [
    "length(pre_cohort_ID)"
   ]
  },
  {
   "cell_type": "code",
   "execution_count": null,
   "id": "98b78a70-d372-4cd0-a3ee-87b8ac5c8eb0",
   "metadata": {},
   "outputs": [],
   "source": [
    "length(OS_treat_ID)\n",
    "length(OS_control_none_ID)\n",
    "length(OS_control_one_ID)"
   ]
  },
  {
   "cell_type": "code",
   "execution_count": null,
   "id": "a5d8f29b-f005-4d29-9783-a2520d86f967",
   "metadata": {},
   "outputs": [],
   "source": [
    "OS_ID <- data.frame(rbind(cbind(OS_treat_ID, 1), cbind(OS_control_none_ID, 0), cbind(OS_control_one_ID, -1)))\n",
    "names(OS_ID) <- c(\"ID\", \"HRTARM\")"
   ]
  },
  {
   "cell_type": "code",
   "execution_count": null,
   "id": "a8b2a5a9-d507-4e50-aaed-bd5f63bf96ae",
   "metadata": {},
   "outputs": [],
   "source": [
    "out <- read.csv(\"/data/whi/data/main_study/csv/outc_adj_bio.csv\")"
   ]
  },
  {
   "cell_type": "code",
   "execution_count": null,
   "id": "d06e12ba-a170-45c9-b3c0-7e081057ef23",
   "metadata": {},
   "outputs": [],
   "source": [
    "out %>% inner_join(OS_ID, by = \"ID\") %>%\n",
    "    mutate(ENDJAMADY = 5.2*365) %>%\n",
    "    select(ID, HRTARM, ENDJAMADY, CABG, CABGDY, PTCA, PTCADY, PE, PEDY, DVT, DVTDY, \n",
    "           ENDMTRL, ENDMTRLDY, COLORECTAL, COLORECTALDY, BKHIP, BKHIPDY, DEATH, DEATHDY,\n",
    "           CHD, CHDDY, STROKE, STROKEDY, BREAST, BREASTDY) %>%\n",
    "    mutate(CABG_EVENT = ifelse(CABG == 1, ifelse(CABGDY <= ENDJAMADY, 1, 0), 0)) %>%\n",
    "    mutate(PTCA_EVENT = ifelse(PTCA == 1, ifelse(PTCADY <= ENDJAMADY, 1, 0), 0)) %>%\n",
    "    mutate(PE_EVENT = ifelse(PE == 1, ifelse(PEDY <= ENDJAMADY, 1, 0), 0)) %>%\n",
    "    mutate(DVT_EVENT = ifelse(DVT == 1, ifelse(DVTDY <= ENDJAMADY, 1, 0), 0)) %>%\n",
    "    mutate(COLORECTAL_EVENT = ifelse(COLORECTAL == 1, ifelse(COLORECTALDY <= ENDJAMADY, 1, 0), 0)) %>%\n",
    "    mutate(HIP_EVENT = ifelse(BKHIP == 1, ifelse(BKHIPDY <= ENDJAMADY, 1, 0), 0)) %>%\n",
    "    mutate(DEATH_EVENT = ifelse(DEATH == 1, ifelse(DEATHDY <= ENDJAMADY, 1, 0), 0)) %>%\n",
    "    mutate(ENDMTRL_EVENT = ifelse(ENDMTRL == 1, ifelse(ENDMTRLDY <= ENDJAMADY, 1, 0), 0)) %>%\n",
    "    mutate(CHD_EVENT = ifelse(CHD == 1, ifelse(CHDDY <= ENDJAMADY, 1, 0), 0)) %>%\n",
    "    mutate(STROKE_EVENT = ifelse(STROKE == 1, ifelse(STROKEDY <= ENDJAMADY, 1, 0), 0)) %>%\n",
    "    mutate(BREAST_EVENT = ifelse(BREAST == 1, ifelse(BREASTDY <= ENDJAMADY, 1, 0), 0)) %>%\n",
    "    mutate(CABGDY = ifelse(CABG_EVENT == 1, CABGDY, ENDJAMADY)) %>%\n",
    "    mutate(PTCADY = ifelse(PTCA_EVENT == 1, PTCADY, ENDJAMADY)) %>%\n",
    "    mutate(PEDY = ifelse(PE_EVENT == 1, PEDY, ENDJAMADY)) %>%\n",
    "    mutate(DVTDY = ifelse(DVT_EVENT == 1, DVTDY, ENDJAMADY)) %>%\n",
    "    mutate(ENDMTRLDY = ifelse(ENDMTRL_EVENT == 1, ENDMTRLDY, ENDJAMADY)) %>%\n",
    "    mutate(COLORECTALDY = ifelse(COLORECTAL_EVENT == 1, COLORECTALDY, ENDJAMADY)) %>%\n",
    "    mutate(HIPDY = ifelse(HIP_EVENT == 1, BKHIPDY, ENDJAMADY)) %>%\n",
    "    mutate(DEATHDY = ifelse(DEATH_EVENT == 1, DEATHDY, ENDJAMADY)) %>%\n",
    "    mutate(CHDDY = ifelse(CHD_EVENT == 1, CHDDY, ENDJAMADY)) %>%\n",
    "    mutate(STROKEDY = ifelse(STROKE_EVENT == 1, STROKEDY, ENDJAMADY)) %>%\n",
    "    mutate(CP_EVENT = (CABG_EVENT+PTCA_EVENT > 0)*1) %>% \n",
    "    mutate(BREASTDY = ifelse(BREAST_EVENT == 1, BREASTDY, ENDJAMADY)) %>%\n",
    "    mutate(CPDY = ifelse(CABG_EVENT == PTCA_EVENT, pmin(CABGDY, PTCADY), CABGDY*CABG_EVENT + PTCADY*PTCA_EVENT)) %>%\n",
    "    mutate(GLBL_EVENT = (DEATH_EVENT + COLORECTAL_EVENT + HIP_EVENT + ENDMTRL_EVENT + CHD_EVENT + STROKE_EVENT + PE_EVENT + BREAST_EVENT > 0)) %>%\n",
    "    mutate(GLBLDY = ifelse(GLBL_EVENT == 1, \n",
    "                           pmin(ifelse(DEATH_EVENT, DEATHDY, NA),\n",
    "                                ifelse(COLORECTAL_EVENT, COLORECTALDY, NA),\n",
    "                                ifelse(HIP_EVENT, HIPDY, NA),\n",
    "                                ifelse(ENDMTRL_EVENT, ENDMTRLDY, NA),\n",
    "                                ifelse(CHD_EVENT, CHDDY, NA),\n",
    "                                ifelse(STROKE_EVENT, STROKEDY, NA),\n",
    "                                ifelse(PE_EVENT, PEDY, NA),\n",
    "                                ifelse(BREAST_EVENT, BREASTDY, NA), na.rm = T), \n",
    "                           pmin(DEATHDY,\n",
    "                                COLORECTALDY,\n",
    "                                HIPDY,\n",
    "                                ENDMTRLDY,\n",
    "                                CHDDY,\n",
    "                                STROKEDY,\n",
    "                                PEDY,\n",
    "                                BREASTDY)))-> out_dz_os"
   ]
  },
  {
   "cell_type": "code",
   "execution_count": null,
   "id": "4dc803c7-a07d-45d6-9fdd-27ec4ac73d54",
   "metadata": {},
   "outputs": [],
   "source": [
    "out_dz_os"
   ]
  },
  {
   "cell_type": "code",
   "execution_count": null,
   "id": "27b15e10-9aa7-455c-99ab-1313dc47a510",
   "metadata": {},
   "outputs": [],
   "source": [
    "colSums(out_dz_os[,c('DEATH_EVENT','CP_EVENT','COLORECTAL_EVENT','HIP_EVENT','CP_EVENT','ENDMTRL_EVENT','PE_EVENT','DVT_EVENT', 'CHD_EVENT', 'BREAST_EVENT', 'STROKE_EVENT', 'GLBL_EVENT')])\n",
    "table(out_dz_os$PE_EVENT,out_dz_os$HRTARM)"
   ]
  },
  {
   "cell_type": "code",
   "execution_count": null,
   "id": "b8b48784-c625-4439-87ff-0855dbfdb2ec",
   "metadata": {},
   "outputs": [],
   "source": [
    "library(survival)\n",
    "mod <- coxph(Surv(PTCADY, PTCA_EVENT) ~ (HRTARM == 1), data = out_dz)\n",
    "summary(mod)"
   ]
  },
  {
   "cell_type": "code",
   "execution_count": null,
   "id": "7179417f-1071-443f-8abc-0c96b8256072",
   "metadata": {},
   "outputs": [],
   "source": [
    "out_dz$OS <- 0\n",
    "out_dz_os$OS <- 1\n",
    "final_out <- rbind(out_dz, out_dz_os)\n",
    "\n",
    "#write.csv(final_out, '/data/whi/data/main_study/processed/ctos_table.csv', row.names = F)\n",
    "\n",
    "final_out <- final_out %>% mutate(grp = ifelse(OS == 1, ifelse(HRTARM == 1, 'OS-TRT', 'OS-CTRL'), \n",
    "                                               ifelse(HRTARM == 1, 'CT-TRT','CT-CTRL')))"
   ]
  },
  {
   "cell_type": "code",
   "execution_count": null,
   "id": "949e02e6-fc01-43da-9e2b-27950a3e5d15",
   "metadata": {},
   "outputs": [],
   "source": [
    "library(tidyverse)\n",
    "data <- read.csv(\"/data/whi/data/main_study/processed/merged.csv\")"
   ]
  },
  {
   "cell_type": "code",
   "execution_count": null,
   "id": "20bb2502-a051-40c6-8d6d-34c65343d469",
   "metadata": {},
   "outputs": [],
   "source": [
    "final_out <- read.csv(\"/data/whi/data/main_study/processed/merged.csv\")"
   ]
  },
  {
   "cell_type": "code",
   "execution_count": null,
   "id": "58e14c75-55d3-44c8-9859-dfac45795384",
   "metadata": {},
   "outputs": [],
   "source": [
    "final_out %>% mutate(GLBL_E = ifelse((GLBL_DY > 7*365), 0, GLBL_E), GLBL_DY = pmin(7*365, GLBL_DY)) -> final_out0\n",
    "sum(final_out0$GLBL_E, na.rm = T)/nrow(final_out0)\n",
    "final_out0 %>% mutate(grp = case_when(\n",
    "    (OS == 0) & (HRTARM == 0) ~ 'CT_CTRL',\n",
    "    (OS == 0) & (HRTARM == 1) ~ 'CT_TRT',\n",
    "    (OS == 1) & (HRTARM == 0) ~ 'OS_CTRL',\n",
    "    (OS == 1) & (HRTARM == 1) ~ 'OS_TRT'\n",
    ")) -> final_out0"
   ]
  },
  {
   "cell_type": "code",
   "execution_count": null,
   "id": "d1551067-6a67-4e6a-8e6e-50e74f2b9825",
   "metadata": {},
   "outputs": [],
   "source": [
    "library(survival)\n",
    "library(ggplot2)\n",
    "library(ggfortify)\n",
    "library(survminer)\n",
    "final_out0 %>% mutate(CANDDY = GLBL_DY, CAND_EVENT = GLBL_E) -> final_out2\n",
    "# mod <- survfit(Surv(CANDDY, CAND_EVENT)~grp, data = final_out2 %>% mutate(newday = ifelse((OS == 0) & (CANDDY > 7*365), 7*365, CANDDY)/365, \n",
    "                                                                               #CAND_EVENT = ifelse((OS == 0) & (CANDDY > 7*365), 0, CAND_EVENT),\n",
    "                                                                                #CANDDY = newday) %>% filter(OS == 0))\n",
    "\n",
    "mod <- survfit(Surv(CANDDY, CAND_EVENT)~grp, data = final_out2 %>% mutate(CANDDY = CANDDY/365))\n",
    "mod\n",
    "# autoplot(mod, conf.int = F) + \n",
    "#  labs(x = \"\\n Survival Time (Days) \", y = \"Survival Probabilities \\n\", \n",
    "#  title = \"Survival\") + \n",
    "#  theme(plot.title = element_text(hjust = 0.5), \n",
    "#  axis.title.x = element_text(face=\"bold\", colour=\"#FF7A33\", size = 12),\n",
    "#  axis.title.y = element_text(face=\"bold\", colour=\"#FF7A33\", size = 12),\n",
    "#  legend.title = element_text(face=\"bold\", size = 10))\n",
    "\n",
    "ggsurvplot(mod, conf.int = F,\n",
    "           risk.table = T, risk.table.col = \"strata\",\n",
    "           fun = \"event\", ylim = c(0,0.1))"
   ]
  },
  {
   "cell_type": "code",
   "execution_count": null,
   "id": "8df1f4f7-4862-4930-97d3-6d601f6d9c97",
   "metadata": {},
   "outputs": [],
   "source": [
    "CT_tab <- final_out0 %>% filter(OS == 0)\n",
    "chisq.test(table(CT_tab$HRTARM, CT_tab$GLBL_E))"
   ]
  },
  {
   "cell_type": "code",
   "execution_count": null,
   "id": "e03d43e7-2a50-4ebc-8944-6a30077177d5",
   "metadata": {},
   "outputs": [],
   "source": [
    "for(i in names(final_out0)){\n",
    "    final_out0$var <- final_out0[[i]]\n",
    "    pval <- summary(coxph(Surv(GLBL_DY, GLBL_E)~grp*var, data = final_out0 %>% filter(OS == 0)))$coefficients[3,5]\n",
    "    if(!is.na(pval)) if(pval < 0.2) cat(i, pval, '\\n')\n",
    "}"
   ]
  },
  {
   "cell_type": "code",
   "execution_count": null,
   "id": "80f3bbc1-00de-449b-a202-7985740d2a80",
   "metadata": {},
   "outputs": [],
   "source": [
    "pval"
   ]
  },
  {
   "cell_type": "code",
   "execution_count": null,
   "id": "1bf6a3fa-697a-40d0-bcc2-f290a357b909",
   "metadata": {},
   "outputs": [],
   "source": [
    "names(final_out0)"
   ]
  },
  {
   "cell_type": "code",
   "execution_count": null,
   "id": "e635a90a-3992-4641-8149-d4139f4a610c",
   "metadata": {},
   "outputs": [],
   "source": [
    "os <- final_out0 %>% filter(OS == 1)\n",
    "ct <- final_out0 %>% filter(OS == 0)\n",
    "\n",
    "table(os[,'ALCNOW_Yes'], os[,'PREG_Yes'])\n",
    "table(ct[,'ALCNOW_Yes'], ct[,'PREG_Yes'])"
   ]
  },
  {
   "cell_type": "code",
   "execution_count": null,
   "id": "2527a3f8-9e73-4a99-9d91-ef134ed227d8",
   "metadata": {},
   "outputs": [],
   "source": []
  }
 ],
 "metadata": {
  "kernelspec": {
   "display_name": "R",
   "language": "R",
   "name": "ir"
  },
  "language_info": {
   "codemirror_mode": "r",
   "file_extension": ".r",
   "mimetype": "text/x-r-source",
   "name": "R",
   "pygments_lexer": "r",
   "version": "4.1.1"
  }
 },
 "nbformat": 4,
 "nbformat_minor": 5
}
